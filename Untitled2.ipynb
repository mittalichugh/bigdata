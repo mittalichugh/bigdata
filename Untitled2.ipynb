{
  "nbformat": 4,
  "nbformat_minor": 0,
  "metadata": {
    "colab": {
      "provenance": [],
      "authorship_tag": "ABX9TyPiJxizxYETPn/q9iIVukFn",
      "include_colab_link": true
    },
    "kernelspec": {
      "name": "python3",
      "display_name": "Python 3"
    },
    "language_info": {
      "name": "python"
    }
  },
  "cells": [
    {
      "cell_type": "markdown",
      "metadata": {
        "id": "view-in-github",
        "colab_type": "text"
      },
      "source": [
        "<a href=\"https://colab.research.google.com/github/mittalichugh/bigdata/blob/main/Untitled2.ipynb\" target=\"_parent\"><img src=\"https://colab.research.google.com/assets/colab-badge.svg\" alt=\"Open In Colab\"/></a>"
      ]
    },
    {
      "cell_type": "code",
      "execution_count": 2,
      "metadata": {
        "colab": {
          "base_uri": "https://localhost:8080/"
        },
        "id": "LBriHyWN6RDG",
        "outputId": "e54a0d83-d08c-4bd7-bebe-63b4ab7444a0"
      },
      "outputs": [
        {
          "output_type": "stream",
          "name": "stdout",
          "text": [
            "[5 4 6 3 2 1]\n"
          ]
        }
      ],
      "source": [
        "import numpy as np\n",
        "a=np.array([1,2,3,6,4,5])\n",
        "print(np.flip(a))\n"
      ]
    },
    {
      "cell_type": "code",
      "source": [
        "c=np.array([[1,2],[3,4]])\n",
        "d=np.array([[1,2],[3,4]])\n",
        "print(c==d)"
      ],
      "metadata": {
        "colab": {
          "base_uri": "https://localhost:8080/"
        },
        "id": "9hWBVX_m61Qf",
        "outputId": "e297068f-a956-4953-bc51-aa5874fd344f"
      },
      "execution_count": 4,
      "outputs": [
        {
          "output_type": "stream",
          "name": "stdout",
          "text": [
            "[[ True  True]\n",
            " [ True  True]]\n"
          ]
        }
      ]
    },
    {
      "cell_type": "code",
      "source": [
        "a = np.array([1,2,3,4,5,1,2,1,1,1])\n",
        "b = np.array([1,1,1, 2, 3, 4, 2, 4, 3, 3])\n",
        "print(f\"The most frequent value in  first array is : {np.bincount(a).argmax()}\")\n",
        "print(f\"The index of most frequent values of first array are {np.where(a==(np.bincount(a).argmax()))}\")\n",
        "print(f\"The most frequent value in  second array is : {np.bincount(b).argmax()}\")\n",
        "print(f\"The index of most frequent values of second array are {np.where(b==(np.bincount(b).argmax()))}\")"
      ],
      "metadata": {
        "colab": {
          "base_uri": "https://localhost:8080/"
        },
        "id": "9uol2Ve37YvA",
        "outputId": "5499d006-8da6-4f1b-f0ea-4d1c430a155c"
      },
      "execution_count": 5,
      "outputs": [
        {
          "output_type": "stream",
          "name": "stdout",
          "text": [
            "The most frequent value in  first array is : 1\n",
            "The index of most frequent values of first array are (array([0, 5, 7, 8, 9]),)\n",
            "The most frequent value in  second array is : 1\n",
            "The index of most frequent values of second array are (array([0, 1, 2]),)\n"
          ]
        }
      ]
    },
    {
      "cell_type": "code",
      "source": [
        "y = np.matrix(\"[4, 1, 9; 12, 3, 1; 4, 5, 6]\")\n",
        "print(y)\n",
        "print(f\"The sum of matrix is {np.sum(y)}\")\n",
        "print(f\"The sum of all rows are {y.sum(axis=1)}\")\n",
        "print(f\"The sum of all columns  are {y.sum(axis=0)}\")"
      ],
      "metadata": {
        "colab": {
          "base_uri": "https://localhost:8080/"
        },
        "id": "jYjFt6KS75FL",
        "outputId": "a65c3c59-d00c-496d-ac30-65099ba5c33b"
      },
      "execution_count": 6,
      "outputs": [
        {
          "output_type": "stream",
          "name": "stdout",
          "text": [
            "[[ 4  1  9]\n",
            " [12  3  1]\n",
            " [ 4  5  6]]\n",
            "The sum of matrix is 45\n",
            "The sum of all rows are [[14]\n",
            " [16]\n",
            " [15]]\n",
            "The sum of all columns  are [[20  9 16]]\n"
          ]
        }
      ]
    }
  ]
}