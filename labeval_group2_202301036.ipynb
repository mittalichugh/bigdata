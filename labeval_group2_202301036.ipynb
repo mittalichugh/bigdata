{
  "nbformat": 4,
  "nbformat_minor": 0,
  "metadata": {
    "colab": {
      "provenance": [],
      "authorship_tag": "ABX9TyPc1x6wROOGm6oMvKNjiCiE",
      "include_colab_link": true
    },
    "kernelspec": {
      "name": "python3",
      "display_name": "Python 3"
    },
    "language_info": {
      "name": "python"
    }
  },
  "cells": [
    {
      "cell_type": "markdown",
      "metadata": {
        "id": "view-in-github",
        "colab_type": "text"
      },
      "source": [
        "<a href=\"https://colab.research.google.com/github/mittalichugh/bigdata/blob/main/labeval_group2_202301036.ipynb\" target=\"_parent\"><img src=\"https://colab.research.google.com/assets/colab-badge.svg\" alt=\"Open In Colab\"/></a>"
      ]
    },
    {
      "cell_type": "code",
      "execution_count": 8,
      "metadata": {
        "colab": {
          "base_uri": "https://localhost:8080/"
        },
        "id": "lYa5oB4CW27K",
        "outputId": "a87c4fb9-2bbf-4031-9e89-02fac80c46b0"
      },
      "outputs": [
        {
          "output_type": "stream",
          "name": "stdout",
          "text": [
            "[ 3  4  5 10 16 16 52 54 62]\n"
          ]
        }
      ],
      "source": [
        "import numpy as np\n",
        "arr=np.array([10,52,62,16,16,54,4,5,3])\n",
        "print(np.sort(arr))\n"
      ]
    },
    {
      "cell_type": "code",
      "source": [
        "arr=np.array([10,52,62,16,16,54,453])\n",
        "sorted=np.sort(arr)\n",
        "smallest=sorted[:4]\n",
        "print(\"the 4 smallest elements are\",smallest)"
      ],
      "metadata": {
        "colab": {
          "base_uri": "https://localhost:8080/"
        },
        "id": "VTKVnIhlY0Xk",
        "outputId": "a2132b14-3203-4fb9-8828-30611cf48cf8"
      },
      "execution_count": 7,
      "outputs": [
        {
          "output_type": "stream",
          "name": "stdout",
          "text": [
            "the 4 smallest elements are [10 16 16 52]\n"
          ]
        }
      ]
    },
    {
      "cell_type": "code",
      "source": [
        "arr = np.array([10, 52, 62, 16, 16, 54, 453])\n",
        "ind = np.argsort(arr)\n",
        "print(ind)"
      ],
      "metadata": {
        "colab": {
          "base_uri": "https://localhost:8080/"
        },
        "id": "4Z_pjxdocxIY",
        "outputId": "3c14adb6-a463-4646-dbaa-742a69da6533"
      },
      "execution_count": 15,
      "outputs": [
        {
          "output_type": "stream",
          "name": "stdout",
          "text": [
            "[0 3 4 1 5 2 6]\n"
          ]
        }
      ]
    },
    {
      "cell_type": "code",
      "source": [],
      "metadata": {
        "id": "Oo6dag_bd410"
      },
      "execution_count": 14,
      "outputs": []
    },
    {
      "cell_type": "code",
      "source": [
        "import numpy as np\n",
        "arr1= np.array([10,52,62,16,16,54,453])\n",
        "su_arr =np.sort(arr1);\n",
        "uv_arr =np.unique(su_arr)\n",
        "print(su_arr[-5:])"
      ],
      "metadata": {
        "colab": {
          "base_uri": "https://localhost:8080/"
        },
        "id": "hOuHuxQheAnn",
        "outputId": "03383c4d-eee6-40cb-cdd6-d8debd469e1a"
      },
      "execution_count": 14,
      "outputs": [
        {
          "output_type": "stream",
          "name": "stdout",
          "text": [
            "[ 16  52  54  62 453]\n"
          ]
        }
      ]
    }
  ]
}